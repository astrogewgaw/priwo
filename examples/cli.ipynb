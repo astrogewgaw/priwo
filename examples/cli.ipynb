{
 "cells": [
  {
   "cell_type": "markdown",
   "metadata": {},
   "source": [
    "# priwo on the command line\n",
    "\n",
    "You can also use priwo on the command line. When you installed [**priwo**](https://github.com/astrogewgaw/priwo), it added a `priwo` command to your `PATH`. To check it out, just do (note that the exclamation mark just tells the notebook to run a shell command; you should try it out without it):"
   ]
  },
  {
   "cell_type": "code",
   "execution_count": 1,
   "metadata": {},
   "outputs": [
    {
     "name": "stdout",
     "output_type": "stream",
     "text": [
      "Usage: priwo [OPTIONS] COMMAND [ARGS]...\n",
      "\n",
      "  The priwo command line tool.\n",
      "\n",
      "Options:\n",
      "  --version   Show the version and exit.\n",
      "  -h, --help  Show this message and exit.\n",
      "\n",
      "Commands:\n",
      "  available  Show the available formats in priwo.\n",
      "  max        Show the maximum size set in priwo.\n",
      "  peek       Take a peek into any pulsar data file.\n"
     ]
    }
   ],
   "source": [
    "!priwo"
   ]
  },
  {
   "cell_type": "markdown",
   "metadata": {},
   "source": [
    "This just displays some a help message. We have already met two of the three commands currently supported by [**priwo**](https://github.com/astrogewgaw/priwo). But we still have to check out `peek`. As the name suggests, it lets you take a peek into the data and metadata in any pulsar data file, provided the format is supported by [**priwo**](https://github.com/astrogewgaw/priwo). For example:"
   ]
  },
  {
   "cell_type": "code",
   "execution_count": 2,
   "metadata": {},
   "outputs": [
    {
     "name": "stdout",
     "output_type": "stream",
     "text": [
      "╭────────────────── Lband_DM62.00.dat ───────────────────╮\n",
      "│ \u001b[1mbsname\u001b[0m                           \u001b[3mtempdir/Lband_DM62.00\u001b[0m │\n",
      "│ \u001b[1mtelescope\u001b[0m                                          \u001b[3mGBT\u001b[0m │\n",
      "│ \u001b[1minstrument\u001b[0m                                       \u001b[3munset\u001b[0m │\n",
      "│ \u001b[1mobject\u001b[0m                                     \u001b[3mMystery_PSR\u001b[0m │\n",
      "│ \u001b[1mrastr\u001b[0m                                    \u001b[3m16:43:38.1000\u001b[0m │\n",
      "│ \u001b[1mdecstr\u001b[0m                                  \u001b[3m-12:24:58.7000\u001b[0m │\n",
      "│ \u001b[1mobserver\u001b[0m                                         \u001b[3munset\u001b[0m │\n",
      "│ \u001b[1mmjd\u001b[0m                                  \u001b[1;91m53010.48095599331\u001b[0m │\n",
      "│ \u001b[1mbary\u001b[0m                                              \u001b[1;92mTrue\u001b[0m │\n",
      "│ \u001b[1mnsamp\u001b[0m                                           \u001b[1;91m134400\u001b[0m │\n",
      "│ \u001b[1mtsamp\u001b[0m                                         \u001b[1;91m0.000288\u001b[0m │\n",
      "│ \u001b[1mbreaks\u001b[0m                                            \u001b[1;92mTrue\u001b[0m │\n",
      "│ \u001b[1memband\u001b[0m                                           \u001b[3mRadio\u001b[0m │\n",
      "│ \u001b[1mbdiam\u001b[0m                                            \u001b[1;91m530.0\u001b[0m │\n",
      "│ \u001b[1mdm\u001b[0m                                                \u001b[1;91m62.0\u001b[0m │\n",
      "│ \u001b[1mcfreq\u001b[0m                                           \u001b[1;91m1352.5\u001b[0m │\n",
      "│ \u001b[1mbw\u001b[0m                                                \u001b[1;91m96.0\u001b[0m │\n",
      "│ \u001b[1mnchan\u001b[0m                                               \u001b[1;91m96\u001b[0m │\n",
      "│ \u001b[1mchanwid\u001b[0m                                            \u001b[1;91m1.0\u001b[0m │\n",
      "│ \u001b[1manalyst\u001b[0m                                        \u001b[3mmaximus\u001b[0m │\n",
      "│ \u001b[1mnotes\u001b[0m     \u001b[3mProject ID unset, Date: 2004-01-06T11:38:09.\u001b[0m │\n",
      "│             \u001b[3m2 polns were summed.  Samples have 4 bits.\u001b[0m │\n",
      "│ \u001b[1monoffs\u001b[0m                                     \u001b[3m(0, 131406)\u001b[0m │\n",
      "│                                       \u001b[3m(134399, 134399)\u001b[0m │\n",
      "│ \u001b[1mdata\u001b[0m        Array of size \u001b[1m531000\u001b[0m and dimensions \u001b[1m531000\u001b[0m │\n",
      "╰────────────────────────────────────────────────────────╯\n"
     ]
    }
   ],
   "source": [
    "!priwo peek data/Lband_DM62.00.dat"
   ]
  },
  {
   "cell_type": "markdown",
   "metadata": {},
   "source": [
    "Note that `peek` doesn't show you the arrays of data, but only tells you the size and the dimensions of the arrays. It does this because it can often not display the entire array to you on the terminal. For example, take a `*.pfd` file:"
   ]
  },
  {
   "cell_type": "code",
   "execution_count": 3,
   "metadata": {},
   "outputs": [
    {
     "name": "stdout",
     "output_type": "stream",
     "text": [
      "╭──────────── Lband_DM62.00_ACCEL_Cand_1.pfd ─────────────╮\n",
      "│ \u001b[1mnumdms\u001b[0m                                                \u001b[1;91m0\u001b[0m │\n",
      "│ \u001b[1mnumperiods\u001b[0m                                          \u001b[1;91m257\u001b[0m │\n",
      "│ \u001b[1mnumpdots\u001b[0m                                            \u001b[1;91m257\u001b[0m │\n",
      "│ \u001b[1mnsub\u001b[0m                                                  \u001b[1;91m1\u001b[0m │\n",
      "│ \u001b[1mnpart\u001b[0m                                                \u001b[1;91m64\u001b[0m │\n",
      "│ \u001b[1mproflen\u001b[0m                                              \u001b[1;91m64\u001b[0m │\n",
      "│ \u001b[1mnumchan\u001b[0m                                               \u001b[1;91m1\u001b[0m │\n",
      "│ \u001b[1mpstep\u001b[0m                                                 \u001b[1;91m2\u001b[0m │\n",
      "│ \u001b[1mpdstep\u001b[0m                                                \u001b[1;91m4\u001b[0m │\n",
      "│ \u001b[1mdmstep\u001b[0m                                                \u001b[1;91m2\u001b[0m │\n",
      "│ \u001b[1mndmfact\u001b[0m                                               \u001b[1;91m3\u001b[0m │\n",
      "│ \u001b[1mnpfact\u001b[0m                                                \u001b[1;91m2\u001b[0m │\n",
      "│ \u001b[1mfilename\u001b[0m                           \u001b[3m../Lband_DM62.00.dat\u001b[0m │\n",
      "│ \u001b[1mcandname\u001b[0m                                   \u001b[3mACCEL_Cand_1\u001b[0m │\n",
      "│ \u001b[1mtelescope\u001b[0m                                           \u001b[3mGBT\u001b[0m │\n",
      "│ \u001b[1mpgdev\u001b[0m          \u001b[3m../Lband_DM62.00_ACCEL_Cand_1.pfd.ps/CPS\u001b[0m │\n",
      "│ \u001b[1mrastr\u001b[0m                                     \u001b[3m16:43:38.1000\u001b[0m │\n",
      "│ \u001b[1mdecstr\u001b[0m                                   \u001b[3m-12:24:58.7000\u001b[0m │\n",
      "│ \u001b[1mtsamp\u001b[0m                                          \u001b[1;91m0.000288\u001b[0m │\n",
      "│ \u001b[1mstartT\u001b[0m                                              \u001b[1;91m0.0\u001b[0m │\n",
      "│ \u001b[1mendT\u001b[0m                                                \u001b[1;91m1.0\u001b[0m │\n",
      "│ \u001b[1mtepoch\u001b[0m                                              \u001b[1;91m0.0\u001b[0m │\n",
      "│ \u001b[1mbepoch\u001b[0m                                \u001b[1;91m53010.48095599331\u001b[0m │\n",
      "│ \u001b[1mavgoverc\u001b[0m                                            \u001b[1;91m0.0\u001b[0m │\n",
      "│ \u001b[1mlofreq\u001b[0m                                           \u001b[1;91m1352.5\u001b[0m │\n",
      "│ \u001b[1mchanwidth\u001b[0m                                           \u001b[1;91m1.0\u001b[0m │\n",
      "│ \u001b[1mbestdm\u001b[0m                                             \u001b[1;91m62.0\u001b[0m │\n",
      "│ \u001b[1mtopopow\u001b[0m                                             \u001b[1;91m0.0\u001b[0m │\n",
      "│ \u001b[1m_t\u001b[0m                                                  \u001b[1;91m0.0\u001b[0m │\n",
      "│ \u001b[1mtopop1\u001b[0m                                              \u001b[1;91m0.0\u001b[0m │\n",
      "│ \u001b[1mtopop2\u001b[0m                                              \u001b[1;91m0.0\u001b[0m │\n",
      "│ \u001b[1mtopop3\u001b[0m                                              \u001b[1;91m0.0\u001b[0m │\n",
      "│ \u001b[1mbarypow\u001b[0m                                             \u001b[1;91m0.0\u001b[0m │\n",
      "│ \u001b[1m_b\u001b[0m                                                  \u001b[1;91m0.0\u001b[0m │\n",
      "│ \u001b[1mbaryp1\u001b[0m                                \u001b[1;91m9.275145008336503\u001b[0m │\n",
      "│ \u001b[1mbaryp2\u001b[0m                           \u001b[1;91m-0.0003640671516059178\u001b[0m │\n",
      "│ \u001b[1mbaryp3\u001b[0m                                              \u001b[1;91m0.0\u001b[0m │\n",
      "│ \u001b[1mfoldpow\u001b[0m                                             \u001b[1;91m1.0\u001b[0m │\n",
      "│ \u001b[1m_f\u001b[0m                                 \u001b[1;91m4.55674234629144e-41\u001b[0m │\n",
      "│ \u001b[1mfoldp1\u001b[0m                              \u001b[1;91m0.12271618716931217\u001b[0m │\n",
      "│ \u001b[1mfoldp2\u001b[0m                                              \u001b[1;91m0.0\u001b[0m │\n",
      "│ \u001b[1mfoldp3\u001b[0m                                              \u001b[1;91m0.0\u001b[0m │\n",
      "│ \u001b[1morbp\u001b[0m                                                \u001b[1;91m0.0\u001b[0m │\n",
      "│ \u001b[1morbe\u001b[0m                                                \u001b[1;91m0.0\u001b[0m │\n",
      "│ \u001b[1morbx\u001b[0m                                                \u001b[1;91m0.0\u001b[0m │\n",
      "│ \u001b[1morbw\u001b[0m                                                \u001b[1;91m0.0\u001b[0m │\n",
      "│ \u001b[1morbt\u001b[0m                                                \u001b[1;91m0.0\u001b[0m │\n",
      "│ \u001b[1morbpd\u001b[0m                                               \u001b[1;91m0.0\u001b[0m │\n",
      "│ \u001b[1morbwd\u001b[0m                                               \u001b[1;91m0.0\u001b[0m │\n",
      "│ \u001b[1mdms\u001b[0m                    Array of size \u001b[1m0\u001b[0m and dimensions \u001b[1m0\u001b[0m │\n",
      "│ \u001b[1mperiods\u001b[0m            Array of size \u001b[1m257\u001b[0m and dimensions \u001b[1m257\u001b[0m │\n",
      "│ \u001b[1mpdots\u001b[0m              Array of size \u001b[1m257\u001b[0m and dimensions \u001b[1m257\u001b[0m │\n",
      "│ \u001b[1mprofs\u001b[0m     Array of size \u001b[1m4096\u001b[0m and dimensions \u001b[1m64 x 1 x 64\u001b[0m │\n",
      "│ \u001b[1mstats\u001b[0m       Array of size \u001b[1m448\u001b[0m and dimensions \u001b[1m64 x 1 x 7\u001b[0m │\n",
      "│ \u001b[1mnumprofs\u001b[0m                                             \u001b[1;91m64\u001b[0m │\n",
      "╰─────────────────────────────────────────────────────────╯\n"
     ]
    }
   ],
   "source": [
    "!priwo peek data/Lband_DM62.00_ACCEL_Cand_1.pfd"
   ]
  },
  {
   "cell_type": "markdown",
   "metadata": {},
   "source": [
    "As you can see, there are a lot of arrays, and they are huge (atleast for the terminal). `peek` helps you get a first look at pulsar data of all kinds, before you actually start analysing stuff."
   ]
  }
 ],
 "metadata": {
  "kernelspec": {
   "display_name": "Python 3",
   "language": "python",
   "name": "python3"
  },
  "language_info": {
   "codemirror_mode": {
    "name": "ipython",
    "version": 3
   },
   "file_extension": ".py",
   "mimetype": "text/x-python",
   "name": "python",
   "nbconvert_exporter": "python",
   "pygments_lexer": "ipython3",
   "version": "3.8.5"
  }
 },
 "nbformat": 4,
 "nbformat_minor": 4
}
