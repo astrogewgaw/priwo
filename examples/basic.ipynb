{
 "cells": [
  {
   "cell_type": "markdown",
   "metadata": {},
   "source": [
    "# Basic Usage\n",
    "\n",
    "This section is going to take you through a whirlwind through of all of [**priwo**](https://github.com/astrogewgaw/priwo)'s capabilities, so hang on tight! [**priwo**](https://github.com/astrogewgaw/priwo) comes with a couple of simple functions that give you, the user, some information about itself, such as what is the maximum chunk size that it uses for reading large amounts of data, or what are the data formats that it supports. [**priwo**](https://github.com/astrogewgaw/priwo) can report stuff like this two ways: directly via the command line(note that the exclamation mark at the beginning allows us to run shell commands in a Jupyter notebook):"
   ]
  },
  {
   "cell_type": "code",
   "execution_count": 1,
   "metadata": {},
   "outputs": [
    {
     "name": "stdout",
     "output_type": "stream",
     "text": [
      "╭──────────────────────────╮\r\n",
      "│ Maximum size:     0.5 GB │\r\n",
      "╰──────────────────────────╯\r\n"
     ]
    }
   ],
   "source": [
    "!priwo max"
   ]
  },
  {
   "cell_type": "code",
   "execution_count": 2,
   "metadata": {},
   "outputs": [
    {
     "name": "stdout",
     "output_type": "stream",
     "text": [
      "\u001b[3m                          Formats available in \u001b[0m\u001b[1;3mpriwo\u001b[0m\u001b[3m.                           \u001b[0m\r\n",
      "┏━━━━━━━━━━━━━┳━━━━━━━━━━━━━━━━━━━━━━━━━━━┳━━━━━━━━━━━━━━━━━━━━━━━━━━━━━━━━━━━━┓\r\n",
      "┃\u001b[1m \u001b[0m\u001b[1mFormat name\u001b[0m\u001b[1m \u001b[0m┃\u001b[1m \u001b[0m\u001b[1mCommon extension (if any)\u001b[0m\u001b[1m \u001b[0m┃\u001b[1m \u001b[0m\u001b[1mDescription                       \u001b[0m\u001b[1m \u001b[0m┃\r\n",
      "┡━━━━━━━━━━━━━╇━━━━━━━━━━━━━━━━━━━━━━━━━━━╇━━━━━━━━━━━━━━━━━━━━━━━━━━━━━━━━━━━━┩\r\n",
      "│ inf         │ .inf                      │ PRESTO metadata.                   │\r\n",
      "│ sigproc     │                           │ SIGPROC metadata.                  │\r\n",
      "│ dat         │ .dat                      │ PRESTO time series data.           │\r\n",
      "│ tim         │ .tim                      │ SIGPROC time series data.          │\r\n",
      "│ fft         │ .fft                      │ PRESTO power/frequency spectrum    │\r\n",
      "│             │                           │ data.                              │\r\n",
      "│ spc         │ .spc                      │ SIGPROC power/frequency spectrum   │\r\n",
      "│             │                           │ data.                              │\r\n",
      "│ filterbank  │ .fil                      │ SIGPROC frequency-time data.       │\r\n",
      "│ psrfits     │                           │ PSRFITS format.                    │\r\n",
      "│ pfd         │ .pfd                      │ PRESTO folded data.                │\r\n",
      "│ polycos     │ .polycos                  │ Polynomial coefficients.           │\r\n",
      "│ bestprof    │ .bestprof                 │ PRESTO best profile data.          │\r\n",
      "└─────────────┴───────────────────────────┴────────────────────────────────────┘\r\n"
     ]
    }
   ],
   "source": [
    "!priwo available"
   ]
  },
  {
   "cell_type": "markdown",
   "metadata": {},
   "source": [
    "or, programatically, via the `max_size` and `available_formats` functions:"
   ]
  },
  {
   "cell_type": "code",
   "execution_count": 3,
   "metadata": {},
   "outputs": [
    {
     "data": {
      "text/html": [
       "<pre style=\"white-space:pre;overflow-x:auto;line-height:normal;font-family:Menlo,'DejaVu Sans Mono',consolas,'Courier New',monospace\">╭──────────────────────────╮\n",
       "│ Maximum size:     0.5 GB │\n",
       "╰──────────────────────────╯\n",
       "</pre>\n"
      ],
      "text/plain": [
       "╭──────────────────────────╮\n",
       "│ Maximum size:     0.5 GB │\n",
       "╰──────────────────────────╯\n"
      ]
     },
     "metadata": {},
     "output_type": "display_data"
    }
   ],
   "source": [
    "import priwo\n",
    "\n",
    "priwo.max_size()"
   ]
  },
  {
   "cell_type": "code",
   "execution_count": 4,
   "metadata": {},
   "outputs": [
    {
     "data": {
      "text/html": [
       "<pre style=\"white-space:pre;overflow-x:auto;line-height:normal;font-family:Menlo,'DejaVu Sans Mono',consolas,'Courier New',monospace\"><span style=\"font-style: italic\">                                 Formats available in </span><span style=\"font-weight: bold; font-style: italic\">priwo</span><span style=\"font-style: italic\">.                                 </span>\n",
       "┏━━━━━━━━━━━━━━━┳━━━━━━━━━━━━━━━━━━━━━━━━━━━━━━┳━━━━━━━━━━━━━━━━━━━━━━━━━━━━━━━━━━━━━━━━━━━━┓\n",
       "┃<span style=\"font-weight: bold\"> Format name   </span>┃<span style=\"font-weight: bold\"> Common extension (if any)    </span>┃<span style=\"font-weight: bold\"> Description                                </span>┃\n",
       "┡━━━━━━━━━━━━━━━╇━━━━━━━━━━━━━━━━━━━━━━━━━━━━━━╇━━━━━━━━━━━━━━━━━━━━━━━━━━━━━━━━━━━━━━━━━━━━┩\n",
       "│ inf           │ .inf                         │ PRESTO metadata.                           │\n",
       "│ sigproc       │                              │ SIGPROC metadata.                          │\n",
       "│ dat           │ .dat                         │ PRESTO time series data.                   │\n",
       "│ tim           │ .tim                         │ SIGPROC time series data.                  │\n",
       "│ fft           │ .fft                         │ PRESTO power/frequency spectrum data.      │\n",
       "│ spc           │ .spc                         │ SIGPROC power/frequency spectrum data.     │\n",
       "│ filterbank    │ .fil                         │ SIGPROC frequency-time data.               │\n",
       "│ psrfits       │                              │ PSRFITS format.                            │\n",
       "│ pfd           │ .pfd                         │ PRESTO folded data.                        │\n",
       "│ polycos       │ .polycos                     │ Polynomial coefficients.                   │\n",
       "│ bestprof      │ .bestprof                    │ PRESTO best profile data.                  │\n",
       "└───────────────┴──────────────────────────────┴────────────────────────────────────────────┘\n",
       "</pre>\n"
      ],
      "text/plain": [
       "\u001b[3m                                 Formats available in \u001b[0m\u001b[1;3mpriwo\u001b[0m\u001b[3m.                                 \u001b[0m\n",
       "┏━━━━━━━━━━━━━━━┳━━━━━━━━━━━━━━━━━━━━━━━━━━━━━━┳━━━━━━━━━━━━━━━━━━━━━━━━━━━━━━━━━━━━━━━━━━━━┓\n",
       "┃\u001b[1m \u001b[0m\u001b[1mFormat name  \u001b[0m\u001b[1m \u001b[0m┃\u001b[1m \u001b[0m\u001b[1mCommon extension (if any)   \u001b[0m\u001b[1m \u001b[0m┃\u001b[1m \u001b[0m\u001b[1mDescription                               \u001b[0m\u001b[1m \u001b[0m┃\n",
       "┡━━━━━━━━━━━━━━━╇━━━━━━━━━━━━━━━━━━━━━━━━━━━━━━╇━━━━━━━━━━━━━━━━━━━━━━━━━━━━━━━━━━━━━━━━━━━━┩\n",
       "│ inf           │ .inf                         │ PRESTO metadata.                           │\n",
       "│ sigproc       │                              │ SIGPROC metadata.                          │\n",
       "│ dat           │ .dat                         │ PRESTO time series data.                   │\n",
       "│ tim           │ .tim                         │ SIGPROC time series data.                  │\n",
       "│ fft           │ .fft                         │ PRESTO power/frequency spectrum data.      │\n",
       "│ spc           │ .spc                         │ SIGPROC power/frequency spectrum data.     │\n",
       "│ filterbank    │ .fil                         │ SIGPROC frequency-time data.               │\n",
       "│ psrfits       │                              │ PSRFITS format.                            │\n",
       "│ pfd           │ .pfd                         │ PRESTO folded data.                        │\n",
       "│ polycos       │ .polycos                     │ Polynomial coefficients.                   │\n",
       "│ bestprof      │ .bestprof                    │ PRESTO best profile data.                  │\n",
       "└───────────────┴──────────────────────────────┴────────────────────────────────────────────┘\n"
      ]
     },
     "metadata": {},
     "output_type": "display_data"
    }
   ],
   "source": [
    "priwo.available_formats()"
   ]
  },
  {
   "cell_type": "markdown",
   "metadata": {},
   "source": [
    "As you can see, [**priwo**](https://github.com/astrogewgaw/priwo) supports quite a few pulsar data formats. If you want to read in data from any of them, just import the corresponding function. All function names in [**priwo**](https://github.com/astrogewgaw/priwo) have the format: read_*extension*. For instance, to read in a `*.dat` file, you can do:"
   ]
  },
  {
   "cell_type": "code",
   "execution_count": 5,
   "metadata": {},
   "outputs": [
    {
     "data": {
      "text/plain": [
       "{'bsname': 'tempdir/Lband_DM62.00',\n",
       " 'telescope': 'GBT',\n",
       " 'instrument': 'unset',\n",
       " 'object': 'Mystery_PSR',\n",
       " 'rastr': '16:43:38.1000',\n",
       " 'decstr': '-12:24:58.7000',\n",
       " 'observer': 'unset',\n",
       " 'mjd': 53010.48095599331,\n",
       " 'bary': True,\n",
       " 'nsamp': 134400,\n",
       " 'tsamp': 0.000288,\n",
       " 'breaks': True,\n",
       " 'emband': 'Radio',\n",
       " 'bdiam': 530.0,\n",
       " 'dm': 62.0,\n",
       " 'cfreq': 1352.5,\n",
       " 'bw': 96.0,\n",
       " 'nchan': 96,\n",
       " 'chanwid': 1.0,\n",
       " 'analyst': 'maximus',\n",
       " 'notes': ['Project ID unset, Date: 2004-01-06T11:38:09.',\n",
       "  '2 polns were summed.  Samples have 4 bits.'],\n",
       " 'onoffs': [(0, 131406), (134399, 134399)],\n",
       " 'data': array([738., 801., 774., ...,   0.,   0.,   0.], dtype=float32)}"
      ]
     },
     "execution_count": 5,
     "metadata": {},
     "output_type": "execute_result"
    }
   ],
   "source": [
    "from priwo import read_dat\n",
    "\n",
    "ts = read_dat(\"data/Lband_DM62.00.dat\")\n",
    "ts"
   ]
  },
  {
   "cell_type": "markdown",
   "metadata": {},
   "source": [
    "The data from the time series file is in the *data* key. We can take a look at what our time series looks like, using [**matplotlib**](https://matplotlib.org/):"
   ]
  },
  {
   "cell_type": "code",
   "execution_count": 6,
   "metadata": {},
   "outputs": [
    {
     "data": {
      "text/plain": [
       "Text(0.5, 1.0, 'Mystery_PSR')"
      ]
     },
     "execution_count": 6,
     "metadata": {},
     "output_type": "execute_result"
    },
    {
     "data": {
      "image/png": "[encoded data removed]",
      "text/plain": [
       "<Figure size 432x288 with 1 Axes>"
      ]
     },
     "metadata": {
      "needs_background": "light"
     },
     "output_type": "display_data"
    }
   ],
   "source": [
    "%matplotlib inline\n",
    "import matplotlib.pyplot as plt\n",
    "\n",
    "plt.plot(ts[\"data\"])\n",
    "plt.xlabel(\"Sample index, $i$\")\n",
    "plt.ylabel(\"Amplitude\")\n",
    "plt.title(ts[\"object\"])"
   ]
  }
 ],
 "metadata": {
  "kernelspec": {
   "display_name": "Python 3",
   "language": "python",
   "name": "python3"
  },
  "language_info": {
   "codemirror_mode": {
    "name": "ipython",
    "version": 3
   },
   "file_extension": ".py",
   "mimetype": "text/x-python",
   "name": "python",
   "nbconvert_exporter": "python",
   "pygments_lexer": "ipython3",
   "version": "3.8.5"
  }
 },
 "nbformat": 4,
 "nbformat_minor": 4
}